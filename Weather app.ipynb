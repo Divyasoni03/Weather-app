{
 "cells": [
  {
   "cell_type": "code",
   "execution_count": 1,
   "id": "a15f0eb5-2db5-489d-9497-85744f89dd0a",
   "metadata": {},
   "outputs": [
    {
     "name": "stdout",
     "output_type": "stream",
     "text": [
      "Requirement already satisfied: requests in c:\\users\\divya soni\\anaconda3\\lib\\site-packages (2.32.3)\n",
      "Requirement already satisfied: charset-normalizer<4,>=2 in c:\\users\\divya soni\\anaconda3\\lib\\site-packages (from requests) (3.3.2)\n",
      "Requirement already satisfied: idna<4,>=2.5 in c:\\users\\divya soni\\anaconda3\\lib\\site-packages (from requests) (3.7)\n",
      "Requirement already satisfied: urllib3<3,>=1.21.1 in c:\\users\\divya soni\\anaconda3\\lib\\site-packages (from requests) (2.2.3)\n",
      "Requirement already satisfied: certifi>=2017.4.17 in c:\\users\\divya soni\\anaconda3\\lib\\site-packages (from requests) (2025.4.26)\n",
      "Note: you may need to restart the kernel to use updated packages.\n"
     ]
    }
   ],
   "source": [
    "pip install requests\n"
   ]
  },
  {
   "cell_type": "code",
   "execution_count": null,
   "id": "cd064c7b-e39d-425b-8a1d-ce5cfdea2e31",
   "metadata": {},
   "outputs": [],
   "source": [
    "import tkinter as tk\n",
    "import requests\n",
    "\n",
    "def get_weather():\n",
    "    city = city_entry.get()\n",
    "    api_key = \"96612525d153361a0f6f67194850b275\"\n",
    "    url = f\"https://api.openweathermap.org/data/2.5/weather?q={city}&appid={api_key}&units=metric\"\n",
    "    response = requests.get(url)\n",
    "\n",
    "    if response.status_code == 200:\n",
    "        data = response.json()\n",
    "        weather_icon = data['weather'][0]['icon']\n",
    "        icon_url = f\"http://openweathermap.org/img/wn/{weather_icon}.png\"\n",
    "        icon = tk.PhotoImage(data=requests.get(icon_url).content)\n",
    "\n",
    "        # Update or create icon label inside function to ensure it's not destroyed\n",
    "        weather_icon_label.config(image=icon)\n",
    "        weather_icon_label.image = icon\n",
    "\n",
    "        result = f\"\"\"\n",
    "City: {data['name']}, {data['sys']['country']}\n",
    "Temperature: {data['main']['temp']} °C\n",
    "Weather: {data['weather'][0]['description']}\n",
    "Humidity: {data['main']['humidity']}%\n",
    "Wind Speed: {data['wind']['speed']} m/s\n",
    "\"\"\"\n",
    "    else:\n",
    "        result = \"City not found!\"\n",
    "    \n",
    "    result_label.config(text=result)\n",
    "\n",
    "# GUI Setup\n",
    "root = tk.Tk()\n",
    "root.title(\"Weather App\")\n",
    "root.configure(bg=\"#87CEEB\")\n",
    "\n",
    "# Custom Font and Styling\n",
    "font_style = (\"Arial\", 14)\n",
    "\n",
    "tk.Label(root, text=\"Enter city name:\", bg=\"#87CEEB\", font=font_style).pack(pady=10)\n",
    "city_entry = tk.Entry(root, font=font_style, width=25)\n",
    "city_entry.pack(pady=10)\n",
    "\n",
    "# Hover effect functions\n",
    "def on_enter(e):\n",
    "    button.config(bg=\"#1E90FF\")  # Change color on hover\n",
    "\n",
    "def on_leave(e):\n",
    "    button.config(bg=\"#00BFFF\")  # Revert to original color\n",
    "\n",
    "# Button with hover effect\n",
    "button = tk.Button(root, text=\"Get Weather\", command=get_weather, font=(\"Arial\", 16, \"bold\"), bg=\"#00BFFF\", fg=\"white\")\n",
    "button.pack(pady=10)\n",
    "\n",
    "# Bind hover effect to button\n",
    "button.bind(\"<Enter>\", on_enter)\n",
    "button.bind(\"<Leave>\", on_leave)\n",
    "\n",
    "# Weather result label\n",
    "result_label = tk.Label(root, text=\"\", justify=\"left\", font=font_style, bg=\"#87CEEB\", fg=\"black\")\n",
    "result_label.pack(pady=10)\n",
    "\n",
    "# Weather icon label\n",
    "weather_icon_label = tk.Label(root, bg=\"#87CEEB\")\n",
    "weather_icon_label.pack(pady=10)\n",
    "\n",
    "root.mainloop()\n"
   ]
  },
  {
   "cell_type": "code",
   "execution_count": null,
   "id": "3a4b4c3a-b42e-4020-8a06-c80ba8a22557",
   "metadata": {},
   "outputs": [],
   "source": []
  }
 ],
 "metadata": {
  "kernelspec": {
   "display_name": "Python 3 (ipykernel)",
   "language": "python",
   "name": "python3"
  },
  "language_info": {
   "codemirror_mode": {
    "name": "ipython",
    "version": 3
   },
   "file_extension": ".py",
   "mimetype": "text/x-python",
   "name": "python",
   "nbconvert_exporter": "python",
   "pygments_lexer": "ipython3",
   "version": "3.12.7"
  }
 },
 "nbformat": 4,
 "nbformat_minor": 5
}
